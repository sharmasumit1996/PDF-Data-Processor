{
 "cells": [
  {
   "cell_type": "code",
   "execution_count": 45,
   "id": "0445647f",
   "metadata": {},
   "outputs": [],
   "source": [
    "from diagrams import Diagram, Cluster\n",
    "from diagrams.aws.storage import S3\n",
    "from diagrams.custom import Custom\n",
    "from diagrams.onprem.client import Users\n",
    "from diagrams.onprem.compute import Server\n",
    "from diagrams.programming.language import Python\n",
    "\n",
    "with Diagram(\"Data Architecture Diagram\", show=False):\n",
    "\n",
    "    user = Users(\"User\")\n",
    "    with Cluster(\"Containerization\"):\n",
    "        docker = Custom(\"\", \"docker.png\")\n",
    "        with Cluster(\"User Interaction\"):\n",
    "            streamlit = Custom(\"Streamlit\", \"streamlit.png\")\n",
    "            fastapi = Custom(\"FastAPI\", \"fastapi.png\")\n",
    "\n",
    "        with Cluster(\"Data Processing\"):\n",
    "            airflow = Custom(\"Airflow\", \"airflow.png\")\n",
    "            with Cluster(\"Web Scraping\"):\n",
    "                webscraping = Python(\"BeautifulSoup, Selenium\")\n",
    "\n",
    "            with Cluster(\"PDF Scraping\"):\n",
    "                data_extraction = Server(\"Grobid\")\n",
    "            pydantic = Custom(\"Pydantic\", \"pydantic-logo.png\")\n",
    "\n",
    "    with Cluster(\"Data Storage\"):\n",
    "        s3 = S3(\"S3\")\n",
    "        snowflake = Custom(\"Snowflake\", \"snowflake.png\")\n",
    "\n",
    "\n",
    "    user >> streamlit\n",
    "    streamlit >> s3\n",
    "    streamlit >> fastapi\n",
    "    fastapi >> airflow\n",
    "    airflow >> data_extraction\n",
    "    airflow >> webscraping\n",
    "    data_extraction >> pydantic\n",
    "    webscraping >> pydantic\n",
    "    pydantic >> snowflake\n",
    "    snowflake >> fastapi\n",
    "    fastapi >> streamlit\n"
   ]
  },
  {
   "cell_type": "code",
   "execution_count": null,
   "id": "27ad1d3c",
   "metadata": {},
   "outputs": [],
   "source": []
  }
 ],
 "metadata": {
  "kernelspec": {
   "display_name": "Python 3 (ipykernel)",
   "language": "python",
   "name": "python3"
  },
  "language_info": {
   "codemirror_mode": {
    "name": "ipython",
    "version": 3
   },
   "file_extension": ".py",
   "mimetype": "text/x-python",
   "name": "python",
   "nbconvert_exporter": "python",
   "pygments_lexer": "ipython3",
   "version": "3.9.13"
  }
 },
 "nbformat": 4,
 "nbformat_minor": 5
}
